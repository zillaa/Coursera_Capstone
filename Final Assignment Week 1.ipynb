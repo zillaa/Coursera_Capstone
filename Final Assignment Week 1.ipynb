{
 "cells": [
  {
   "cell_type": "markdown",
   "metadata": {},
   "source": [
    "# Capstone Project - The Battle of Neighborhoods - Week 1"
   ]
  },
  {
   "cell_type": "markdown",
   "metadata": {},
   "source": [
    "## Where to Invest in Vancouver?"
   ]
  },
  {
   "cell_type": "markdown",
   "metadata": {},
   "source": [
    "### Introduction"
   ]
  },
  {
   "cell_type": "markdown",
   "metadata": {},
   "source": [
    "#### According to BNNBloomberg.ca Canada’s federal housing agency is considering scaling back mortgage underwriting practices to limit excessive borrowing due to the threat of significant declines in real estate prices and rising debt levels.\n",
    "\n",
    "#### This is one of thoes Rare periods in 30 year history where Real Estate Price Valuations by the city of Vancouver  have gone down with 2008 Being a small exception.\n",
    "\n",
    "#### While most see this as a Doom and Gloom Situation, some of the wealthier clientele want to invest in areas where there has been actually an increase in property values when every thing else is heading South."
   ]
  },
  {
   "cell_type": "markdown",
   "metadata": {},
   "source": [
    "### Business Problem"
   ]
  },
  {
   "cell_type": "markdown",
   "metadata": {},
   "source": [
    "#### The problem is simple, where to invest in vancouver? A simple question with not so simple answer. When the property prices were going up everywhere it was very easy to invest but now With property prices falling almost everywhere, Where are these hidden gems located and investors want to know how to get at it.\n",
    "#### The investors are mostly looking for Two Family Dwelling  units with the price range between 3 to 3.5 million Dollars.With over 9000 reportings for property taxes with the city of vancouver, it will be a challenge to find the right areas.\n",
    "#### While most two dwelling units in vacouver have expereinced a drop in its property assessments in the year 2019 comapred to the previousyear.Investors would like to take advantage of the opportunity but would would want to know what neighbourhoods provides the most value and invest in few of thoes areas."
   ]
  },
  {
   "cell_type": "markdown",
   "metadata": {},
   "source": [
    "### Data section"
   ]
  },
  {
   "cell_type": "markdown",
   "metadata": {},
   "source": [
    "#### To start with the primary source of the Data Will be the city of Vancouver Website. Following is the \n",
    "#### link to the website and the Data :\n",
    "    \n",
    "https://opendata.vancouver.ca/explore/dataset/property-tax-report/table/?refine.legal_type=LAND\n",
    "\n"
   ]
  },
  {
   "cell_type": "markdown",
   "metadata": {},
   "source": [
    "### Methodology \n",
    "\n",
    "#### This section mainly describes the components of analysis, which consists of these four stages:\n",
    "\n",
    "#### 1. Collect and Inspect the Data\n",
    "#### 2. Explore and Understand the Data\n",
    "#### 3. Data preparation and preprocessing \n",
    "#### 4. Modeling"
   ]
  }
 ],
 "metadata": {
  "kernelspec": {
   "display_name": "Python 3",
   "language": "python",
   "name": "python3"
  },
  "language_info": {
   "codemirror_mode": {
    "name": "ipython",
    "version": 3
   },
   "file_extension": ".py",
   "mimetype": "text/x-python",
   "name": "python",
   "nbconvert_exporter": "python",
   "pygments_lexer": "ipython3",
   "version": "3.7.4"
  }
 },
 "nbformat": 4,
 "nbformat_minor": 2
}
